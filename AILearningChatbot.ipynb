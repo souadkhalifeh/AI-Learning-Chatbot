{
  "nbformat": 4,
  "nbformat_minor": 0,
  "metadata": {
    "colab": {
      "provenance": [],
      "gpuType": "T4"
    },
    "kernelspec": {
      "name": "python3",
      "display_name": "Python 3"
    },
    "language_info": {
      "name": "python"
    },
    "accelerator": "GPU"
  },
  "cells": [
    {
      "cell_type": "code",
      "source": [
        "!pip install \\\n",
        "    langchain_community\\\n",
        "    langchain_text_splitters\\\n",
        "    langchain_openai\\\n",
        "    langchain_pinecone\n"
      ],
      "metadata": {
        "id": "UWC0Cd0fsYbJ",
        "colab": {
          "base_uri": "https://localhost:8080/"
        },
        "outputId": "7b5b963f-4322-446c-9384-c43e6330e21e"
      },
      "execution_count": 17,
      "outputs": [
        {
          "output_type": "stream",
          "name": "stdout",
          "text": [
            "Requirement already satisfied: langchain_community in /usr/local/lib/python3.11/dist-packages (0.3.14)\n",
            "Requirement already satisfied: langchain_text_splitters in /usr/local/lib/python3.11/dist-packages (0.3.5)\n",
            "Requirement already satisfied: langchain_openai in /usr/local/lib/python3.11/dist-packages (0.3.0)\n",
            "Requirement already satisfied: langchain_pinecone in /usr/local/lib/python3.11/dist-packages (0.2.2)\n",
            "Requirement already satisfied: PyYAML>=5.3 in /usr/local/lib/python3.11/dist-packages (from langchain_community) (6.0.2)\n",
            "Requirement already satisfied: SQLAlchemy<3,>=1.4 in /usr/local/lib/python3.11/dist-packages (from langchain_community) (2.0.37)\n",
            "Requirement already satisfied: aiohttp<4.0.0,>=3.8.3 in /usr/local/lib/python3.11/dist-packages (from langchain_community) (3.10.11)\n",
            "Requirement already satisfied: dataclasses-json<0.7,>=0.5.7 in /usr/local/lib/python3.11/dist-packages (from langchain_community) (0.6.7)\n",
            "Requirement already satisfied: httpx-sse<0.5.0,>=0.4.0 in /usr/local/lib/python3.11/dist-packages (from langchain_community) (0.4.0)\n",
            "Requirement already satisfied: langchain<0.4.0,>=0.3.14 in /usr/local/lib/python3.11/dist-packages (from langchain_community) (0.3.14)\n",
            "Requirement already satisfied: langchain-core<0.4.0,>=0.3.29 in /usr/local/lib/python3.11/dist-packages (from langchain_community) (0.3.29)\n",
            "Requirement already satisfied: langsmith<0.3,>=0.1.125 in /usr/local/lib/python3.11/dist-packages (from langchain_community) (0.2.10)\n",
            "Requirement already satisfied: numpy<2,>=1.22.4 in /usr/local/lib/python3.11/dist-packages (from langchain_community) (1.26.4)\n",
            "Requirement already satisfied: pydantic-settings<3.0.0,>=2.4.0 in /usr/local/lib/python3.11/dist-packages (from langchain_community) (2.7.1)\n",
            "Requirement already satisfied: requests<3,>=2 in /usr/local/lib/python3.11/dist-packages (from langchain_community) (2.32.3)\n",
            "Requirement already satisfied: tenacity!=8.4.0,<10,>=8.1.0 in /usr/local/lib/python3.11/dist-packages (from langchain_community) (9.0.0)\n",
            "Requirement already satisfied: openai<2.0.0,>=1.58.1 in /usr/local/lib/python3.11/dist-packages (from langchain_openai) (1.59.6)\n",
            "Requirement already satisfied: tiktoken<1,>=0.7 in /usr/local/lib/python3.11/dist-packages (from langchain_openai) (0.8.0)\n",
            "Requirement already satisfied: langchain-tests<0.4.0,>=0.3.7 in /usr/local/lib/python3.11/dist-packages (from langchain_pinecone) (0.3.8)\n",
            "Requirement already satisfied: pinecone<6.0.0,>=5.4.0 in /usr/local/lib/python3.11/dist-packages (from langchain_pinecone) (5.4.2)\n",
            "Requirement already satisfied: aiohappyeyeballs>=2.3.0 in /usr/local/lib/python3.11/dist-packages (from aiohttp<4.0.0,>=3.8.3->langchain_community) (2.4.4)\n",
            "Requirement already satisfied: aiosignal>=1.1.2 in /usr/local/lib/python3.11/dist-packages (from aiohttp<4.0.0,>=3.8.3->langchain_community) (1.3.2)\n",
            "Requirement already satisfied: attrs>=17.3.0 in /usr/local/lib/python3.11/dist-packages (from aiohttp<4.0.0,>=3.8.3->langchain_community) (24.3.0)\n",
            "Requirement already satisfied: frozenlist>=1.1.1 in /usr/local/lib/python3.11/dist-packages (from aiohttp<4.0.0,>=3.8.3->langchain_community) (1.5.0)\n",
            "Requirement already satisfied: multidict<7.0,>=4.5 in /usr/local/lib/python3.11/dist-packages (from aiohttp<4.0.0,>=3.8.3->langchain_community) (6.1.0)\n",
            "Requirement already satisfied: yarl<2.0,>=1.12.0 in /usr/local/lib/python3.11/dist-packages (from aiohttp<4.0.0,>=3.8.3->langchain_community) (1.18.3)\n",
            "Requirement already satisfied: marshmallow<4.0.0,>=3.18.0 in /usr/local/lib/python3.11/dist-packages (from dataclasses-json<0.7,>=0.5.7->langchain_community) (3.25.1)\n",
            "Requirement already satisfied: typing-inspect<1,>=0.4.0 in /usr/local/lib/python3.11/dist-packages (from dataclasses-json<0.7,>=0.5.7->langchain_community) (0.9.0)\n",
            "Requirement already satisfied: pydantic<3.0.0,>=2.7.4 in /usr/local/lib/python3.11/dist-packages (from langchain<0.4.0,>=0.3.14->langchain_community) (2.10.5)\n",
            "Requirement already satisfied: jsonpatch<2.0,>=1.33 in /usr/local/lib/python3.11/dist-packages (from langchain-core<0.4.0,>=0.3.29->langchain_community) (1.33)\n",
            "Requirement already satisfied: packaging<25,>=23.2 in /usr/local/lib/python3.11/dist-packages (from langchain-core<0.4.0,>=0.3.29->langchain_community) (24.2)\n",
            "Requirement already satisfied: typing-extensions>=4.7 in /usr/local/lib/python3.11/dist-packages (from langchain-core<0.4.0,>=0.3.29->langchain_community) (4.12.2)\n",
            "Requirement already satisfied: httpx<1,>=0.25.0 in /usr/local/lib/python3.11/dist-packages (from langchain-tests<0.4.0,>=0.3.7->langchain_pinecone) (0.28.1)\n",
            "Requirement already satisfied: pytest<9,>=7 in /usr/local/lib/python3.11/dist-packages (from langchain-tests<0.4.0,>=0.3.7->langchain_pinecone) (8.3.4)\n",
            "Requirement already satisfied: pytest-asyncio<1,>=0.20 in /usr/local/lib/python3.11/dist-packages (from langchain-tests<0.4.0,>=0.3.7->langchain_pinecone) (0.25.2)\n",
            "Requirement already satisfied: pytest-socket<1,>=0.6.0 in /usr/local/lib/python3.11/dist-packages (from langchain-tests<0.4.0,>=0.3.7->langchain_pinecone) (0.7.0)\n",
            "Requirement already satisfied: syrupy<5,>=4 in /usr/local/lib/python3.11/dist-packages (from langchain-tests<0.4.0,>=0.3.7->langchain_pinecone) (4.8.1)\n",
            "Requirement already satisfied: orjson<4.0.0,>=3.9.14 in /usr/local/lib/python3.11/dist-packages (from langsmith<0.3,>=0.1.125->langchain_community) (3.10.14)\n",
            "Requirement already satisfied: requests-toolbelt<2.0.0,>=1.0.0 in /usr/local/lib/python3.11/dist-packages (from langsmith<0.3,>=0.1.125->langchain_community) (1.0.0)\n",
            "Requirement already satisfied: anyio<5,>=3.5.0 in /usr/local/lib/python3.11/dist-packages (from openai<2.0.0,>=1.58.1->langchain_openai) (3.7.1)\n",
            "Requirement already satisfied: distro<2,>=1.7.0 in /usr/local/lib/python3.11/dist-packages (from openai<2.0.0,>=1.58.1->langchain_openai) (1.9.0)\n",
            "Requirement already satisfied: jiter<1,>=0.4.0 in /usr/local/lib/python3.11/dist-packages (from openai<2.0.0,>=1.58.1->langchain_openai) (0.8.2)\n",
            "Requirement already satisfied: sniffio in /usr/local/lib/python3.11/dist-packages (from openai<2.0.0,>=1.58.1->langchain_openai) (1.3.1)\n",
            "Requirement already satisfied: tqdm>4 in /usr/local/lib/python3.11/dist-packages (from openai<2.0.0,>=1.58.1->langchain_openai) (4.67.1)\n",
            "Requirement already satisfied: certifi>=2019.11.17 in /usr/local/lib/python3.11/dist-packages (from pinecone<6.0.0,>=5.4.0->langchain_pinecone) (2024.12.14)\n",
            "Requirement already satisfied: pinecone-plugin-inference<4.0.0,>=2.0.0 in /usr/local/lib/python3.11/dist-packages (from pinecone<6.0.0,>=5.4.0->langchain_pinecone) (3.1.0)\n",
            "Requirement already satisfied: pinecone-plugin-interface<0.0.8,>=0.0.7 in /usr/local/lib/python3.11/dist-packages (from pinecone<6.0.0,>=5.4.0->langchain_pinecone) (0.0.7)\n",
            "Requirement already satisfied: python-dateutil>=2.5.3 in /usr/local/lib/python3.11/dist-packages (from pinecone<6.0.0,>=5.4.0->langchain_pinecone) (2.8.2)\n",
            "Requirement already satisfied: urllib3>=1.26.0 in /usr/local/lib/python3.11/dist-packages (from pinecone<6.0.0,>=5.4.0->langchain_pinecone) (2.3.0)\n",
            "Requirement already satisfied: python-dotenv>=0.21.0 in /usr/local/lib/python3.11/dist-packages (from pydantic-settings<3.0.0,>=2.4.0->langchain_community) (1.0.1)\n",
            "Requirement already satisfied: charset-normalizer<4,>=2 in /usr/local/lib/python3.11/dist-packages (from requests<3,>=2->langchain_community) (3.4.1)\n",
            "Requirement already satisfied: idna<4,>=2.5 in /usr/local/lib/python3.11/dist-packages (from requests<3,>=2->langchain_community) (3.10)\n",
            "Requirement already satisfied: greenlet!=0.4.17 in /usr/local/lib/python3.11/dist-packages (from SQLAlchemy<3,>=1.4->langchain_community) (3.1.1)\n",
            "Requirement already satisfied: regex>=2022.1.18 in /usr/local/lib/python3.11/dist-packages (from tiktoken<1,>=0.7->langchain_openai) (2024.11.6)\n",
            "Requirement already satisfied: httpcore==1.* in /usr/local/lib/python3.11/dist-packages (from httpx<1,>=0.25.0->langchain-tests<0.4.0,>=0.3.7->langchain_pinecone) (1.0.7)\n",
            "Requirement already satisfied: h11<0.15,>=0.13 in /usr/local/lib/python3.11/dist-packages (from httpcore==1.*->httpx<1,>=0.25.0->langchain-tests<0.4.0,>=0.3.7->langchain_pinecone) (0.14.0)\n",
            "Requirement already satisfied: jsonpointer>=1.9 in /usr/local/lib/python3.11/dist-packages (from jsonpatch<2.0,>=1.33->langchain-core<0.4.0,>=0.3.29->langchain_community) (3.0.0)\n",
            "Requirement already satisfied: annotated-types>=0.6.0 in /usr/local/lib/python3.11/dist-packages (from pydantic<3.0.0,>=2.7.4->langchain<0.4.0,>=0.3.14->langchain_community) (0.7.0)\n",
            "Requirement already satisfied: pydantic-core==2.27.2 in /usr/local/lib/python3.11/dist-packages (from pydantic<3.0.0,>=2.7.4->langchain<0.4.0,>=0.3.14->langchain_community) (2.27.2)\n",
            "Requirement already satisfied: iniconfig in /usr/local/lib/python3.11/dist-packages (from pytest<9,>=7->langchain-tests<0.4.0,>=0.3.7->langchain_pinecone) (2.0.0)\n",
            "Requirement already satisfied: pluggy<2,>=1.5 in /usr/local/lib/python3.11/dist-packages (from pytest<9,>=7->langchain-tests<0.4.0,>=0.3.7->langchain_pinecone) (1.5.0)\n",
            "Requirement already satisfied: six>=1.5 in /usr/local/lib/python3.11/dist-packages (from python-dateutil>=2.5.3->pinecone<6.0.0,>=5.4.0->langchain_pinecone) (1.17.0)\n",
            "Requirement already satisfied: mypy-extensions>=0.3.0 in /usr/local/lib/python3.11/dist-packages (from typing-inspect<1,>=0.4.0->dataclasses-json<0.7,>=0.5.7->langchain_community) (1.0.0)\n",
            "Requirement already satisfied: propcache>=0.2.0 in /usr/local/lib/python3.11/dist-packages (from yarl<2.0,>=1.12.0->aiohttp<4.0.0,>=3.8.3->langchain_community) (0.2.1)\n"
          ]
        }
      ]
    },
    {
      "cell_type": "code",
      "source": [
        "!pip install pypdf"
      ],
      "metadata": {
        "id": "8Iox_YO-tXFA",
        "colab": {
          "base_uri": "https://localhost:8080/"
        },
        "outputId": "9473d180-43ef-4b57-9647-201ad6bf8bf8"
      },
      "execution_count": 18,
      "outputs": [
        {
          "output_type": "stream",
          "name": "stdout",
          "text": [
            "Requirement already satisfied: pypdf in /usr/local/lib/python3.11/dist-packages (5.1.0)\n"
          ]
        }
      ]
    },
    {
      "cell_type": "code",
      "execution_count": 19,
      "metadata": {
        "id": "VcoaC5uRsMuh"
      },
      "outputs": [],
      "source": [
        "import os\n",
        "import numpy as np\n",
        "from langchain_community.document_loaders import PyPDFLoader\n",
        "from langchain_community.document_loaders import PyPDFDirectoryLoader\n",
        "from langchain.text_splitter import RecursiveCharacterTextSplitter\n",
        "from langchain_community.vectorstores import FAISS\n",
        "from langchain.chains import RetrievalQA\n",
        "from langchain.prompts import PromptTemplate\n",
        "from langchain_pinecone import PineconeVectorStore\n",
        "from langchain_openai import OpenAIEmbeddings"
      ]
    },
    {
      "cell_type": "code",
      "source": [
        "from urllib.request import urlretrieve"
      ],
      "metadata": {
        "id": "YhSSLjlOtFCc"
      },
      "execution_count": 20,
      "outputs": []
    },
    {
      "cell_type": "code",
      "source": [
        "files = [\n",
        "    \"https://www.deeplearningbook.org/front_matter.pdf\",\n",
        "    \"https://www.microsoft.com/en-us/research/uploads/prod/2006/01/Bishop-Pattern-Recognition-and-Machine-Learning-2006.pdf\",\n",
        "    \"https://www.academia.dk/BiologiskAntropologi/Epidemiologi/DataMining/Artificial_Intelligence-A_Guide_to_Intelligent_Systems.pdf\",\n",
        "    \"https://mrce.in/ebooks/AI%20Foundations%20of%20Computational%20Agents%203rd%20Ed.pdf\"\n",
        "]\n",
        "os.makedirs(\"data\",exist_ok=True)"
      ],
      "metadata": {
        "id": "E3_iPpaDtHmg"
      },
      "execution_count": 23,
      "outputs": []
    },
    {
      "cell_type": "code",
      "source": [
        "for url in files:\n",
        "    file_path=os.path.join(\"data\", url.rpartition(\"/\")[2])\n",
        "    urlretrieve(url,file_path)"
      ],
      "metadata": {
        "id": "OK09hl64tKTI"
      },
      "execution_count": 24,
      "outputs": []
    },
    {
      "cell_type": "code",
      "source": [
        "loader = PyPDFDirectoryLoader(\"./data/\")"
      ],
      "metadata": {
        "id": "m1XTagZ-tNRi"
      },
      "execution_count": 25,
      "outputs": []
    },
    {
      "cell_type": "code",
      "source": [
        "docs_before_split=loader.load()"
      ],
      "metadata": {
        "id": "P0XbbX9_tRCB"
      },
      "execution_count": 26,
      "outputs": []
    },
    {
      "cell_type": "code",
      "source": [
        "docs_before_split[0]"
      ],
      "metadata": {
        "id": "N3Ele0ygt6rZ",
        "colab": {
          "base_uri": "https://localhost:8080/"
        },
        "outputId": "76ffd0ba-eb9f-43ec-beb3-c459765d782e"
      },
      "execution_count": 27,
      "outputs": [
        {
          "output_type": "execute_result",
          "data": {
            "text/plain": [
              "Document(metadata={'source': 'data/Bishop-Pattern-Recognition-and-Machine-Learning-2006.pdf', 'page': 0}, page_content='')"
            ]
          },
          "metadata": {},
          "execution_count": 27
        }
      ]
    },
    {
      "cell_type": "code",
      "source": [
        "from google.colab import userdata\n",
        "os.environ['OPENAI_API_KEY']=userdata.get('OPENAI_API_KEY')\n",
        "os.environ['PINECONE_API_KEY']=userdata.get('PINECONE_API_KEY')"
      ],
      "metadata": {
        "id": "Zr8mmGpW1F1c"
      },
      "execution_count": 28,
      "outputs": []
    },
    {
      "cell_type": "code",
      "source": [
        "embeddings =OpenAIEmbeddings(\n",
        "    model=\"text-embedding-3-small\",\n",
        ")\n",
        "\n",
        "index_name=\"chatbot\""
      ],
      "metadata": {
        "id": "DMeMVVrx11fW"
      },
      "execution_count": 29,
      "outputs": []
    },
    {
      "cell_type": "code",
      "source": [
        "text_splitter=RecursiveCharacterTextSplitter()\n",
        "split_docs=text_splitter.split_documents(docs_before_split)"
      ],
      "metadata": {
        "id": "03gBuJJz2Gub"
      },
      "execution_count": 30,
      "outputs": []
    },
    {
      "cell_type": "code",
      "source": [
        "split_docs[25]"
      ],
      "metadata": {
        "id": "zpz9Y9lP235I",
        "colab": {
          "base_uri": "https://localhost:8080/"
        },
        "outputId": "48321bc5-a062-4420-c5bf-edde0ad9b170"
      },
      "execution_count": 31,
      "outputs": [
        {
          "output_type": "execute_result",
          "data": {
            "text/plain": [
              "Document(metadata={'source': 'data/Bishop-Pattern-Recognition-and-Machine-Learning-2006.pdf', 'page': 27}, page_content='8 1. INTRODUCTION\\nFigure 1.5 Graphs of the root-mean-square\\nerror, deﬁned by (1.3), evaluated\\non the training set and on an inde-\\npendent test set for various values\\nof M.\\nM\\nERMS\\n0 3 6 9\\n0\\n0.5\\n1\\nTraining\\nTest\\nFor M =9 , the training set error goes to zero, as we might expect because\\nthis polynomial contains10 degrees of freedom corresponding to the10 coefﬁcients\\nw0,...,w 9, and so can be tuned exactly to the10 data points in the training set.\\nHowever, the test set error has become very large and, as we saw in Figure 1.4, the\\ncorresponding function y(x,w⋆ ) exhibits wild oscillations.\\nThis may seem paradoxical because a polynomial of given order contains all\\nlower order polynomials as special cases. TheM =9 polynomial is therefore capa-\\nble of generating results at least as good as theM =3 polynomial. Furthermore, we\\nmight suppose that the best predictor of new data would be the functionsin(2πx)\\nfrom which the data was generated (and we shall see later that this is indeed the\\ncase). We know that a power series expansion of the function sin(2πx) contains\\nterms of all orders, so we might expect that results should improve monotonically as\\nwe increase M.\\nWe can gain some insight into the problem by examining the values of the co-\\nefﬁcients w⋆ obtained from polynomials of various order, as shown in Table 1.1.\\nWe see that, asM increases, the magnitude of the coefﬁcients typically gets larger.\\nIn particular for theM =9 polynomial, the coefﬁcients have become ﬁnely tuned\\nto the data by developing large positive and negative values so that the correspond-\\nTable 1.1 Table of the coefﬁcients w⋆ for\\npolynomials of various order.\\nObserve how the typical mag-\\nnitude of the coefﬁcients in-\\ncreases dramatically as the or-\\nder of the polynomial increases.\\nM =0 M =1 M =6 M =9\\nw⋆\\n0 0.19 0.82 0.31 0.35\\nw⋆\\n1 -1.27 7.99 232.37\\nw⋆\\n2 -25.43 -5321.83\\nw⋆\\n3 17.37 48568.31\\nw⋆\\n4 -231639.30\\nw⋆\\n5 640042.26\\nw⋆\\n6 -1061800.52\\nw⋆\\n7 1042400.18\\nw⋆\\n8 -557682.99\\nw⋆\\n9 125201.43')"
            ]
          },
          "metadata": {},
          "execution_count": 31
        }
      ]
    },
    {
      "cell_type": "code",
      "source": [
        "vectorestore=PineconeVectorStore.from_documents(split_docs,embeddings,index_name=index_name)"
      ],
      "metadata": {
        "id": "Xw0tWS-P26iV"
      },
      "execution_count": 32,
      "outputs": []
    },
    {
      "cell_type": "code",
      "source": [
        "query = \"What is the neural network?\""
      ],
      "metadata": {
        "id": "B7O40BCS3luh"
      },
      "execution_count": 33,
      "outputs": []
    },
    {
      "cell_type": "code",
      "source": [
        "similar_docs=vectorestore.similarity_search(query)"
      ],
      "metadata": {
        "id": "iLrXssZv4VIY"
      },
      "execution_count": 34,
      "outputs": []
    },
    {
      "cell_type": "code",
      "source": [
        "similar_docs"
      ],
      "metadata": {
        "id": "Edz5Z-K64dBB",
        "colab": {
          "base_uri": "https://localhost:8080/"
        },
        "outputId": "7f44b09c-b16f-4ccf-c07b-0010d565893e"
      },
      "execution_count": 35,
      "outputs": [
        {
          "output_type": "execute_result",
          "data": {
            "text/plain": [
              "[Document(id='233191a0-330f-42f1-acdc-730a60c1afe3', metadata={'page': 184.0, 'source': 'data\\\\Artificial_Intelligence-A_Guide_to_Intelligent_Systems.pdf'}, page_content='What is a neural network?\\nA neural network can be deﬁned as a model of reasoning based on the human\\nbrain. The brain consists of a densely interconnected set of nerve cells, or basic\\ninformation-processing units, calledneurons. The human brain incorporates\\nnearly 10 billion neurons and 60 trillion connections, synapses, between them\\n(Shepherd and Koch, 1990). By using multiple neurons simultaneously, the\\nbrain can perform its functions much faster than the fastest computers in\\nexistence today.\\nAlthough each neuron has a very simple structure, an army of such elements\\nconstitutes a tremendous processing power. A neuron consists of a cell body,'),\n",
              " Document(id='64c0dea0-6741-4d11-b7ca-c3e9fb9bb90b', metadata={'page': 184.0, 'source': 'data/Artificial_Intelligence-A_Guide_to_Intelligent_Systems.pdf'}, page_content='What is a neural network?\\nA neural network can be deﬁned as a model of reasoning based on the human\\nbrain. The brain consists of a densely interconnected set of nerve cells, or basic\\ninformation-processing units, calledneurons. The human brain incorporates\\nnearly 10 billion neurons and 60 trillion connections, synapses, between them\\n(Shepherd and Koch, 1990). By using multiple neurons simultaneously, the\\nbrain can perform its functions much faster than the fastest computers in\\nexistence today.\\nAlthough each neuron has a very simple structure, an army of such elements\\nconstitutes a tremendous processing power. A neuron consists of a cell body,\\nsoma, a number of ﬁbres called dendrites, and a single long ﬁbre called the\\naxon. While dendrites branch into a network around the soma, the axon\\nstretches out to the dendrites and somas of other neurons. Figure 6.1 is a\\nschematic drawing of a neural network.\\nSignals are propagated from one neuron to another by complex electro-\\nchemical reactions. Chemical substances released from the synapses cause a\\nchange in the electrical potential of the cell body. When the potential reaches its\\nthreshold, an electrical pulse, action potential, is sent down through the axon.\\nThe pulse spreads out and eventually reaches synapses, causing them to increase\\nor decrease their potential. However, the most interesting ﬁnding is that a neural\\nnetwork exhibitsplasticity. In response to the stimulation pattern, neurons\\ndemonstrate long-term changes in the strength of their connections. Neurons\\nalso can form new connections with other neurons. Even entire collections of\\nneurons may sometimes migrate from one place to another. These mechanisms\\nform the basis for learning in the brain.\\nOur brain can be considered as a highly complex, nonlinear and parallel\\ninformation-processing system. Information is stored and processed in a neural\\nnetwork simultaneously throughout the whole network, rather than at speciﬁc\\nlocations. In other words, in neural networks, both data and its processing are\\nglobalrather than local.\\nOwing to the plasticity, connections between neurons leading to the ‘right\\nanswer’ are strengthened while those leading to the ‘wrong answer’ weaken. As a\\nresult, neural networks have the ability to learn through experience.\\nLearning is a fundamental and essential characteristic of biological neural\\nnetworks. The ease and naturalness with which they can learn led to attempts to\\nemulate a biological neural network in a computer.\\nFigure 6.1 Biological neural network\\nARTIFICIAL NEURAL NETWORKS166'),\n",
              " Document(id='c1597c6e-f787-499b-b93d-9ed906e80994', metadata={'page': 184.0, 'source': 'data/Artificial_Intelligence-A_Guide_to_Intelligent_Systems.pdf'}, page_content='What is a neural network?\\nA neural network can be deﬁned as a model of reasoning based on the human\\nbrain. The brain consists of a densely interconnected set of nerve cells, or basic\\ninformation-processing units, calledneurons. The human brain incorporates\\nnearly 10 billion neurons and 60 trillion connections, synapses, between them\\n(Shepherd and Koch, 1990). By using multiple neurons simultaneously, the\\nbrain can perform its functions much faster than the fastest computers in\\nexistence today.\\nAlthough each neuron has a very simple structure, an army of such elements\\nconstitutes a tremendous processing power. A neuron consists of a cell body,\\nsoma, a number of ﬁbres called dendrites, and a single long ﬁbre called the\\naxon. While dendrites branch into a network around the soma, the axon\\nstretches out to the dendrites and somas of other neurons. Figure 6.1 is a\\nschematic drawing of a neural network.\\nSignals are propagated from one neuron to another by complex electro-\\nchemical reactions. Chemical substances released from the synapses cause a\\nchange in the electrical potential of the cell body. When the potential reaches its\\nthreshold, an electrical pulse, action potential, is sent down through the axon.\\nThe pulse spreads out and eventually reaches synapses, causing them to increase\\nor decrease their potential. However, the most interesting ﬁnding is that a neural\\nnetwork exhibitsplasticity. In response to the stimulation pattern, neurons\\ndemonstrate long-term changes in the strength of their connections. Neurons\\nalso can form new connections with other neurons. Even entire collections of\\nneurons may sometimes migrate from one place to another. These mechanisms\\nform the basis for learning in the brain.\\nOur brain can be considered as a highly complex, nonlinear and parallel\\ninformation-processing system. Information is stored and processed in a neural\\nnetwork simultaneously throughout the whole network, rather than at speciﬁc\\nlocations. In other words, in neural networks, both data and its processing are\\nglobalrather than local.\\nOwing to the plasticity, connections between neurons leading to the ‘right\\nanswer’ are strengthened while those leading to the ‘wrong answer’ weaken. As a\\nresult, neural networks have the ability to learn through experience.\\nLearning is a fundamental and essential characteristic of biological neural\\nnetworks. The ease and naturalness with which they can learn led to attempts to\\nemulate a biological neural network in a computer.\\nFigure 6.1 Biological neural network\\nARTIFICIAL NEURAL NETWORKS166'),\n",
              " Document(id='38332f73-ed4e-460a-84af-19e6637bfb4c', metadata={'page': 184.0, 'source': 'data/Artificial_Intelligence-A_Guide_to_Intelligent_Systems.pdf'}, page_content='What is a neural network?\\nA neural network can be deﬁned as a model of reasoning based on the human\\nbrain. The brain consists of a densely interconnected set of nerve cells, or basic\\ninformation-processing units, calledneurons. The human brain incorporates\\nnearly 10 billion neurons and 60 trillion connections, synapses, between them\\n(Shepherd and Koch, 1990). By using multiple neurons simultaneously, the\\nbrain can perform its functions much faster than the fastest computers in\\nexistence today.\\nAlthough each neuron has a very simple structure, an army of such elements\\nconstitutes a tremendous processing power. A neuron consists of a cell body,\\nsoma, a number of ﬁbres called dendrites, and a single long ﬁbre called the\\naxon. While dendrites branch into a network around the soma, the axon\\nstretches out to the dendrites and somas of other neurons. Figure 6.1 is a\\nschematic drawing of a neural network.\\nSignals are propagated from one neuron to another by complex electro-\\nchemical reactions. Chemical substances released from the synapses cause a\\nchange in the electrical potential of the cell body. When the potential reaches its\\nthreshold, an electrical pulse, action potential, is sent down through the axon.\\nThe pulse spreads out and eventually reaches synapses, causing them to increase\\nor decrease their potential. However, the most interesting ﬁnding is that a neural\\nnetwork exhibitsplasticity. In response to the stimulation pattern, neurons\\ndemonstrate long-term changes in the strength of their connections. Neurons\\nalso can form new connections with other neurons. Even entire collections of\\nneurons may sometimes migrate from one place to another. These mechanisms\\nform the basis for learning in the brain.\\nOur brain can be considered as a highly complex, nonlinear and parallel\\ninformation-processing system. Information is stored and processed in a neural\\nnetwork simultaneously throughout the whole network, rather than at speciﬁc\\nlocations. In other words, in neural networks, both data and its processing are\\nglobalrather than local.\\nOwing to the plasticity, connections between neurons leading to the ‘right\\nanswer’ are strengthened while those leading to the ‘wrong answer’ weaken. As a\\nresult, neural networks have the ability to learn through experience.\\nLearning is a fundamental and essential characteristic of biological neural\\nnetworks. The ease and naturalness with which they can learn led to attempts to\\nemulate a biological neural network in a computer.\\nFigure 6.1 Biological neural network\\nARTIFICIAL NEURAL NETWORKS166')]"
            ]
          },
          "metadata": {},
          "execution_count": 35
        }
      ]
    },
    {
      "cell_type": "code",
      "source": [
        "from langchain_openai import ChatOpenAI\n",
        "from langchain.chains import RetrievalQA\n",
        "\n",
        "llm= ChatOpenAI(\n",
        "    model=\"gpt-4o\",\n",
        "    temperature=0.3\n",
        ")"
      ],
      "metadata": {
        "id": "sVOEhbcL4vIO"
      },
      "execution_count": 36,
      "outputs": []
    },
    {
      "cell_type": "code",
      "source": [
        "qa= RetrievalQA.from_chain_type(\n",
        "    llm=llm,\n",
        "    chain_type=\"stuff\",\n",
        "    retriever=vectorestore.as_retriever()\n",
        ")"
      ],
      "metadata": {
        "id": "EH4Jzl537NJl"
      },
      "execution_count": 37,
      "outputs": []
    },
    {
      "cell_type": "code",
      "source": [
        "qa.invoke(query)"
      ],
      "metadata": {
        "id": "HHsvtKObJeZG",
        "colab": {
          "base_uri": "https://localhost:8080/"
        },
        "outputId": "0464f6b8-3561-4b93-d7cc-a5df6fa03f55"
      },
      "execution_count": 38,
      "outputs": [
        {
          "output_type": "execute_result",
          "data": {
            "text/plain": [
              "{'query': 'What is the neural network?',\n",
              " 'result': 'A neural network is a model of reasoning based on the human brain. It consists of a densely interconnected set of nerve cells, or basic information-processing units, called neurons. The human brain incorporates nearly 10 billion neurons and 60 trillion connections, synapses, between them. By using multiple neurons simultaneously, the brain can perform its functions much faster than the fastest computers in existence today. Neural networks exhibit plasticity, meaning they can change the strength of their connections and form new connections in response to stimulation patterns, which forms the basis for learning. This ability to learn through experience has led to attempts to emulate biological neural networks in computers.'}"
            ]
          },
          "metadata": {},
          "execution_count": 38
        }
      ]
    },
    {
      "cell_type": "code",
      "source": [
        "!pip install gradio"
      ],
      "metadata": {
        "id": "DpM2oVPzI1-d",
        "colab": {
          "base_uri": "https://localhost:8080/"
        },
        "outputId": "1969e873-fb53-440c-825a-35ae0c18aa33"
      },
      "execution_count": 39,
      "outputs": [
        {
          "output_type": "stream",
          "name": "stdout",
          "text": [
            "Collecting gradio\n",
            "  Downloading gradio-5.12.0-py3-none-any.whl.metadata (16 kB)\n",
            "Collecting aiofiles<24.0,>=22.0 (from gradio)\n",
            "  Downloading aiofiles-23.2.1-py3-none-any.whl.metadata (9.7 kB)\n",
            "Requirement already satisfied: anyio<5.0,>=3.0 in /usr/local/lib/python3.11/dist-packages (from gradio) (3.7.1)\n",
            "Collecting fastapi<1.0,>=0.115.2 (from gradio)\n",
            "  Downloading fastapi-0.115.6-py3-none-any.whl.metadata (27 kB)\n",
            "Collecting ffmpy (from gradio)\n",
            "  Downloading ffmpy-0.5.0-py3-none-any.whl.metadata (3.0 kB)\n",
            "Collecting gradio-client==1.5.4 (from gradio)\n",
            "  Downloading gradio_client-1.5.4-py3-none-any.whl.metadata (7.1 kB)\n",
            "Requirement already satisfied: httpx>=0.24.1 in /usr/local/lib/python3.11/dist-packages (from gradio) (0.28.1)\n",
            "Requirement already satisfied: huggingface-hub>=0.25.1 in /usr/local/lib/python3.11/dist-packages (from gradio) (0.27.1)\n",
            "Requirement already satisfied: jinja2<4.0 in /usr/local/lib/python3.11/dist-packages (from gradio) (3.1.5)\n",
            "Collecting markupsafe~=2.0 (from gradio)\n",
            "  Downloading MarkupSafe-2.1.5-cp311-cp311-manylinux_2_17_x86_64.manylinux2014_x86_64.whl.metadata (3.0 kB)\n",
            "Requirement already satisfied: numpy<3.0,>=1.0 in /usr/local/lib/python3.11/dist-packages (from gradio) (1.26.4)\n",
            "Requirement already satisfied: orjson~=3.0 in /usr/local/lib/python3.11/dist-packages (from gradio) (3.10.14)\n",
            "Requirement already satisfied: packaging in /usr/local/lib/python3.11/dist-packages (from gradio) (24.2)\n",
            "Requirement already satisfied: pandas<3.0,>=1.0 in /usr/local/lib/python3.11/dist-packages (from gradio) (2.2.2)\n",
            "Requirement already satisfied: pillow<12.0,>=8.0 in /usr/local/lib/python3.11/dist-packages (from gradio) (11.1.0)\n",
            "Requirement already satisfied: pydantic>=2.0 in /usr/local/lib/python3.11/dist-packages (from gradio) (2.10.5)\n",
            "Collecting pydub (from gradio)\n",
            "  Downloading pydub-0.25.1-py2.py3-none-any.whl.metadata (1.4 kB)\n",
            "Collecting python-multipart>=0.0.18 (from gradio)\n",
            "  Downloading python_multipart-0.0.20-py3-none-any.whl.metadata (1.8 kB)\n",
            "Requirement already satisfied: pyyaml<7.0,>=5.0 in /usr/local/lib/python3.11/dist-packages (from gradio) (6.0.2)\n",
            "Collecting ruff>=0.2.2 (from gradio)\n",
            "  Downloading ruff-0.9.1-py3-none-manylinux_2_17_x86_64.manylinux2014_x86_64.whl.metadata (25 kB)\n",
            "Collecting safehttpx<0.2.0,>=0.1.6 (from gradio)\n",
            "  Downloading safehttpx-0.1.6-py3-none-any.whl.metadata (4.2 kB)\n",
            "Collecting semantic-version~=2.0 (from gradio)\n",
            "  Downloading semantic_version-2.10.0-py2.py3-none-any.whl.metadata (9.7 kB)\n",
            "Collecting starlette<1.0,>=0.40.0 (from gradio)\n",
            "  Downloading starlette-0.45.2-py3-none-any.whl.metadata (6.3 kB)\n",
            "Collecting tomlkit<0.14.0,>=0.12.0 (from gradio)\n",
            "  Downloading tomlkit-0.13.2-py3-none-any.whl.metadata (2.7 kB)\n",
            "Requirement already satisfied: typer<1.0,>=0.12 in /usr/local/lib/python3.11/dist-packages (from gradio) (0.15.1)\n",
            "Requirement already satisfied: typing-extensions~=4.0 in /usr/local/lib/python3.11/dist-packages (from gradio) (4.12.2)\n",
            "Collecting uvicorn>=0.14.0 (from gradio)\n",
            "  Downloading uvicorn-0.34.0-py3-none-any.whl.metadata (6.5 kB)\n",
            "Requirement already satisfied: fsspec in /usr/local/lib/python3.11/dist-packages (from gradio-client==1.5.4->gradio) (2024.10.0)\n",
            "Requirement already satisfied: websockets<15.0,>=10.0 in /usr/local/lib/python3.11/dist-packages (from gradio-client==1.5.4->gradio) (14.1)\n",
            "Requirement already satisfied: idna>=2.8 in /usr/local/lib/python3.11/dist-packages (from anyio<5.0,>=3.0->gradio) (3.10)\n",
            "Requirement already satisfied: sniffio>=1.1 in /usr/local/lib/python3.11/dist-packages (from anyio<5.0,>=3.0->gradio) (1.3.1)\n",
            "Collecting starlette<1.0,>=0.40.0 (from gradio)\n",
            "  Downloading starlette-0.41.3-py3-none-any.whl.metadata (6.0 kB)\n",
            "Requirement already satisfied: certifi in /usr/local/lib/python3.11/dist-packages (from httpx>=0.24.1->gradio) (2024.12.14)\n",
            "Requirement already satisfied: httpcore==1.* in /usr/local/lib/python3.11/dist-packages (from httpx>=0.24.1->gradio) (1.0.7)\n",
            "Requirement already satisfied: h11<0.15,>=0.13 in /usr/local/lib/python3.11/dist-packages (from httpcore==1.*->httpx>=0.24.1->gradio) (0.14.0)\n",
            "Requirement already satisfied: filelock in /usr/local/lib/python3.11/dist-packages (from huggingface-hub>=0.25.1->gradio) (3.16.1)\n",
            "Requirement already satisfied: requests in /usr/local/lib/python3.11/dist-packages (from huggingface-hub>=0.25.1->gradio) (2.32.3)\n",
            "Requirement already satisfied: tqdm>=4.42.1 in /usr/local/lib/python3.11/dist-packages (from huggingface-hub>=0.25.1->gradio) (4.67.1)\n",
            "Requirement already satisfied: python-dateutil>=2.8.2 in /usr/local/lib/python3.11/dist-packages (from pandas<3.0,>=1.0->gradio) (2.8.2)\n",
            "Requirement already satisfied: pytz>=2020.1 in /usr/local/lib/python3.11/dist-packages (from pandas<3.0,>=1.0->gradio) (2024.2)\n",
            "Requirement already satisfied: tzdata>=2022.7 in /usr/local/lib/python3.11/dist-packages (from pandas<3.0,>=1.0->gradio) (2024.2)\n",
            "Requirement already satisfied: annotated-types>=0.6.0 in /usr/local/lib/python3.11/dist-packages (from pydantic>=2.0->gradio) (0.7.0)\n",
            "Requirement already satisfied: pydantic-core==2.27.2 in /usr/local/lib/python3.11/dist-packages (from pydantic>=2.0->gradio) (2.27.2)\n",
            "Requirement already satisfied: click>=8.0.0 in /usr/local/lib/python3.11/dist-packages (from typer<1.0,>=0.12->gradio) (8.1.8)\n",
            "Requirement already satisfied: shellingham>=1.3.0 in /usr/local/lib/python3.11/dist-packages (from typer<1.0,>=0.12->gradio) (1.5.4)\n",
            "Requirement already satisfied: rich>=10.11.0 in /usr/local/lib/python3.11/dist-packages (from typer<1.0,>=0.12->gradio) (13.9.4)\n",
            "Requirement already satisfied: six>=1.5 in /usr/local/lib/python3.11/dist-packages (from python-dateutil>=2.8.2->pandas<3.0,>=1.0->gradio) (1.17.0)\n",
            "Requirement already satisfied: markdown-it-py>=2.2.0 in /usr/local/lib/python3.11/dist-packages (from rich>=10.11.0->typer<1.0,>=0.12->gradio) (3.0.0)\n",
            "Requirement already satisfied: pygments<3.0.0,>=2.13.0 in /usr/local/lib/python3.11/dist-packages (from rich>=10.11.0->typer<1.0,>=0.12->gradio) (2.18.0)\n",
            "Requirement already satisfied: charset-normalizer<4,>=2 in /usr/local/lib/python3.11/dist-packages (from requests->huggingface-hub>=0.25.1->gradio) (3.4.1)\n",
            "Requirement already satisfied: urllib3<3,>=1.21.1 in /usr/local/lib/python3.11/dist-packages (from requests->huggingface-hub>=0.25.1->gradio) (2.3.0)\n",
            "Requirement already satisfied: mdurl~=0.1 in /usr/local/lib/python3.11/dist-packages (from markdown-it-py>=2.2.0->rich>=10.11.0->typer<1.0,>=0.12->gradio) (0.1.2)\n",
            "Downloading gradio-5.12.0-py3-none-any.whl (57.6 MB)\n",
            "\u001b[2K   \u001b[90m━━━━━━━━━━━━━━━━━━━━━━━━━━━━━━━━━━━━━━━━\u001b[0m \u001b[32m57.6/57.6 MB\u001b[0m \u001b[31m11.8 MB/s\u001b[0m eta \u001b[36m0:00:00\u001b[0m\n",
            "\u001b[?25hDownloading gradio_client-1.5.4-py3-none-any.whl (321 kB)\n",
            "\u001b[2K   \u001b[90m━━━━━━━━━━━━━━━━━━━━━━━━━━━━━━━━━━━━━━━━\u001b[0m \u001b[32m321.4/321.4 kB\u001b[0m \u001b[31m22.3 MB/s\u001b[0m eta \u001b[36m0:00:00\u001b[0m\n",
            "\u001b[?25hDownloading aiofiles-23.2.1-py3-none-any.whl (15 kB)\n",
            "Downloading fastapi-0.115.6-py3-none-any.whl (94 kB)\n",
            "\u001b[2K   \u001b[90m━━━━━━━━━━━━━━━━━━━━━━━━━━━━━━━━━━━━━━━━\u001b[0m \u001b[32m94.8/94.8 kB\u001b[0m \u001b[31m9.8 MB/s\u001b[0m eta \u001b[36m0:00:00\u001b[0m\n",
            "\u001b[?25hDownloading MarkupSafe-2.1.5-cp311-cp311-manylinux_2_17_x86_64.manylinux2014_x86_64.whl (28 kB)\n",
            "Downloading python_multipart-0.0.20-py3-none-any.whl (24 kB)\n",
            "Downloading ruff-0.9.1-py3-none-manylinux_2_17_x86_64.manylinux2014_x86_64.whl (11.3 MB)\n",
            "\u001b[2K   \u001b[90m━━━━━━━━━━━━━━━━━━━━━━━━━━━━━━━━━━━━━━━━\u001b[0m \u001b[32m11.3/11.3 MB\u001b[0m \u001b[31m74.8 MB/s\u001b[0m eta \u001b[36m0:00:00\u001b[0m\n",
            "\u001b[?25hDownloading safehttpx-0.1.6-py3-none-any.whl (8.7 kB)\n",
            "Downloading semantic_version-2.10.0-py2.py3-none-any.whl (15 kB)\n",
            "Downloading starlette-0.41.3-py3-none-any.whl (73 kB)\n",
            "\u001b[2K   \u001b[90m━━━━━━━━━━━━━━━━━━━━━━━━━━━━━━━━━━━━━━━━\u001b[0m \u001b[32m73.2/73.2 kB\u001b[0m \u001b[31m6.8 MB/s\u001b[0m eta \u001b[36m0:00:00\u001b[0m\n",
            "\u001b[?25hDownloading tomlkit-0.13.2-py3-none-any.whl (37 kB)\n",
            "Downloading uvicorn-0.34.0-py3-none-any.whl (62 kB)\n",
            "\u001b[2K   \u001b[90m━━━━━━━━━━━━━━━━━━━━━━━━━━━━━━━━━━━━━━━━\u001b[0m \u001b[32m62.3/62.3 kB\u001b[0m \u001b[31m6.1 MB/s\u001b[0m eta \u001b[36m0:00:00\u001b[0m\n",
            "\u001b[?25hDownloading ffmpy-0.5.0-py3-none-any.whl (6.0 kB)\n",
            "Downloading pydub-0.25.1-py2.py3-none-any.whl (32 kB)\n",
            "Installing collected packages: pydub, uvicorn, tomlkit, semantic-version, ruff, python-multipart, markupsafe, ffmpy, aiofiles, starlette, safehttpx, gradio-client, fastapi, gradio\n",
            "  Attempting uninstall: markupsafe\n",
            "    Found existing installation: MarkupSafe 3.0.2\n",
            "    Uninstalling MarkupSafe-3.0.2:\n",
            "      Successfully uninstalled MarkupSafe-3.0.2\n",
            "Successfully installed aiofiles-23.2.1 fastapi-0.115.6 ffmpy-0.5.0 gradio-5.12.0 gradio-client-1.5.4 markupsafe-2.1.5 pydub-0.25.1 python-multipart-0.0.20 ruff-0.9.1 safehttpx-0.1.6 semantic-version-2.10.0 starlette-0.41.3 tomlkit-0.13.2 uvicorn-0.34.0\n"
          ]
        }
      ]
    },
    {
      "cell_type": "code",
      "source": [
        "import gradio as gr\n",
        "from langchain.chains import ConversationChain\n",
        "\n",
        "conversation_chain = ConversationChain(llm=llm)\n",
        "\n",
        "def chat_with_bot(user_message, history):\n",
        "    if not user_message.strip():\n",
        "        return gr.update(value=\"Message cannot be empty!\"), history\n",
        "\n",
        "    # Get response from LangChain\n",
        "    response = conversation_chain.predict(input=user_message)\n",
        "\n",
        "    # Add to history for context\n",
        "    history.append((user_message, response))\n",
        "\n",
        "    return gr.update(value=\"\"), history\n",
        "\n",
        "with gr.Blocks() as app:\n",
        "    gr.Markdown(\"# AI Learning Chatbot\")\n",
        "\n",
        "    chatbot = gr.Chatbot(label=\"Chat Interface\")\n",
        "    user_input = gr.Textbox(label=\"Your Message\", placeholder=\"Type your question here...\", lines=1)\n",
        "    clear_button = gr.Button(\"Clear Chat\")\n",
        "    chat_history = []\n",
        "\n",
        "    def user(user_message, history):\n",
        "        if not user_message.strip():\n",
        "            return gr.update(value=\"Message cannot be empty!\"), history\n",
        "\n",
        "    user_input.submit(chat_with_bot, [user_input, chatbot], [user_input, chatbot], queue=True)\n",
        "    clear_button.click(lambda: None, None, chatbot, queue=False)\n",
        "\n",
        "\n",
        "if __name__ == \"__main__\":\n",
        "    app.launch(debug=True)\n"
      ],
      "metadata": {
        "colab": {
          "base_uri": "https://localhost:8080/",
          "height": 680
        },
        "id": "bojQwGJo-tX-",
        "outputId": "a96b7e78-c45d-4f01-bda9-d89ae87c3dae"
      },
      "execution_count": null,
      "outputs": [
        {
          "output_type": "stream",
          "name": "stderr",
          "text": [
            "/usr/local/lib/python3.11/dist-packages/gradio/components/chatbot.py:273: UserWarning: You have not specified a value for the `type` parameter. Defaulting to the 'tuples' format for chatbot messages, but this is deprecated and will be removed in a future version of Gradio. Please set type='messages' instead, which uses openai-style dictionaries with 'role' and 'content' keys.\n",
            "  warnings.warn(\n"
          ]
        },
        {
          "output_type": "stream",
          "name": "stdout",
          "text": [
            "Running Gradio in a Colab notebook requires sharing enabled. Automatically setting `share=True` (you can turn this off by setting `share=False` in `launch()` explicitly).\n",
            "\n",
            "Colab notebook detected. This cell will run indefinitely so that you can see errors and logs. To turn off, set debug=False in launch().\n",
            "* Running on public URL: https://5c9a1c01fc9395c111.gradio.live\n",
            "\n",
            "This share link expires in 72 hours. For free permanent hosting and GPU upgrades, run `gradio deploy` from the terminal in the working directory to deploy to Hugging Face Spaces (https://huggingface.co/spaces)\n"
          ]
        },
        {
          "output_type": "display_data",
          "data": {
            "text/plain": [
              "<IPython.core.display.HTML object>"
            ],
            "text/html": [
              "<div><iframe src=\"https://5c9a1c01fc9395c111.gradio.live\" width=\"100%\" height=\"500\" allow=\"autoplay; camera; microphone; clipboard-read; clipboard-write;\" frameborder=\"0\" allowfullscreen></iframe></div>"
            ]
          },
          "metadata": {}
        }
      ]
    }
  ]
}
